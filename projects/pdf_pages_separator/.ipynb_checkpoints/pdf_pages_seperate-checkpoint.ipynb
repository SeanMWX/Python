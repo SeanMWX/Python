{
 "cells": [
  {
   "cell_type": "code",
   "execution_count": 8,
   "id": "5df24c3e",
   "metadata": {},
   "outputs": [],
   "source": [
    "# import package\n",
    "from PyPDF2 import PdfFileReader, PdfFileWriter\n",
    "import re"
   ]
  },
  {
   "cell_type": "code",
   "execution_count": 5,
   "id": "c1bedb66",
   "metadata": {},
   "outputs": [],
   "source": [
    "# load config file\n",
    "f = open(\"config.txt\", \"r\")\n",
    "lines = f.read()"
   ]
  },
  {
   "cell_type": "code",
   "execution_count": 21,
   "id": "f22fc0d9",
   "metadata": {},
   "outputs": [],
   "source": [
    "# check document name & pages number\n",
    "pattern = re.compile(r'\\[[^\\[]*\\]')\n",
    "results = pattern.findall(lines)\n",
    "# check document name\n",
    "pdf_document = results[0][1:-1]\n",
    "# check pages number\n",
    "pages_list = results[1][1:-1].split(',')\n",
    "pages = []\n",
    "for page in pages_list:\n",
    "    if '-' in page:\n",
    "        page = page.split('-')\n",
    "        start = int(page[0])\n",
    "        end = int(page[1])\n",
    "        for i in range(start,end+1):\n",
    "            pages.append(i)\n",
    "    else:\n",
    "        pages.append(int(page))"
   ]
  },
  {
   "cell_type": "code",
   "execution_count": 25,
   "id": "32a7f4c0",
   "metadata": {},
   "outputs": [
    {
     "name": "stdout",
     "output_type": "stream",
     "text": [
      "Successfully separated all pages: [1 2 3 4 5 6 9]\n"
     ]
    }
   ],
   "source": [
    "# seperate the pdf by pages number\n",
    "pdf = PdfFileReader(pdf_document)\n",
    "for page in pages:\n",
    "    pdf_write = PdfFileWriter()\n",
    "    current_page = pdf.getPage(page)\n",
    "    pdf_write.addPage(current_page)\n",
    "\n",
    "    outputFilename = 'pdf/%d.pdf' % (page)\n",
    "    with open(outputFilename, 'wb') as out:\n",
    "        pdf_write.write(out)\n",
    "\n",
    "# output the results\n",
    "print('Successfully separated all pages: [%s]' % (' '.join([str(elem) for elem in pages])))"
   ]
  },
  {
   "cell_type": "code",
   "execution_count": null,
   "id": "393b84d7",
   "metadata": {},
   "outputs": [],
   "source": []
  }
 ],
 "metadata": {
  "kernelspec": {
   "display_name": "Python 3 (ipykernel)",
   "language": "python",
   "name": "python3"
  },
  "language_info": {
   "codemirror_mode": {
    "name": "ipython",
    "version": 3
   },
   "file_extension": ".py",
   "mimetype": "text/x-python",
   "name": "python",
   "nbconvert_exporter": "python",
   "pygments_lexer": "ipython3",
   "version": "3.9.7"
  }
 },
 "nbformat": 4,
 "nbformat_minor": 5
}
