{
 "cells": [
  {
   "cell_type": "code",
   "execution_count": 43,
   "id": "9129f24b",
   "metadata": {},
   "outputs": [],
   "source": [
    "from Crypto.PublicKey import RSA\n",
    "from Crypto.Cipher import PKCS1_OAEP\n",
    "# import binascii\n",
    "import argparse"
   ]
  },
  {
   "cell_type": "code",
   "execution_count": null,
   "id": "e25d57e4",
   "metadata": {},
   "outputs": [],
   "source": [
    "# ref: https://www.pythonpool.com/rsa-encryption-python/\n",
    "# ref2: https://blog.csdn.net/Ashimar_a/article/details/78213086"
   ]
  },
  {
   "cell_type": "markdown",
   "id": "90b406eb",
   "metadata": {},
   "source": [
    "# 1. Core function"
   ]
  },
  {
   "cell_type": "code",
   "execution_count": 27,
   "id": "661829db",
   "metadata": {},
   "outputs": [],
   "source": [
    "def build_key(username, password):\n",
    "    keyPair = RSA.generate(3072)\n",
    "    # generate public key\n",
    "    pubKey = keyPair.publickey()\n",
    "    pubKeyPEM = pubKey.exportKey(passphrase=password)\n",
    "    # generate private key\n",
    "    privKeyPEM = keyPair.exportKey(passphrase=password)\n",
    "    \n",
    "    # output public key file\n",
    "    f1 = open('%s.public' % (username), 'wb')\n",
    "    f1.write(pubKeyPEM)\n",
    "    f1.close()\n",
    "    \n",
    "    # output private key file\n",
    "    f2 = open('%s.private' % (username), 'wb')\n",
    "    f2.write(privKeyPEM)\n",
    "    f2.close()"
   ]
  },
  {
   "cell_type": "code",
   "execution_count": 37,
   "id": "1c39fe5c",
   "metadata": {},
   "outputs": [],
   "source": [
    "def encrypt(public_key_path, filename, password, message):\n",
    "    # load public key\n",
    "    f1 = open(public_key_path, 'rb')\n",
    "    key = RSA.import_key(f1.read(), passphrase=password)\n",
    "    \n",
    "    # encrypt password\n",
    "    encryptor = PKCS1_OAEP.new(key)\n",
    "    encrypted = encryptor.encrypt(message.encode('ascii'))\n",
    "    \n",
    "    # output private key file\n",
    "    f2 = open('%s.rsa' % (filename), 'wb')\n",
    "    f2.write(encrypted)\n",
    "    f2.close()"
   ]
  },
  {
   "cell_type": "code",
   "execution_count": 50,
   "id": "2d3dcb7e",
   "metadata": {},
   "outputs": [],
   "source": [
    "def decrypt(private_key_path, filename, password):\n",
    "    # load private key\n",
    "    f1 = open(private_key_path, 'rb')\n",
    "    key = RSA.import_key(f1.read(), passphrase=password)\n",
    "    \n",
    "    # load encrypted file\n",
    "    f2 = open('%s.rsa' % (filename), 'rb')\n",
    "    encrypted = f2.read()\n",
    "    \n",
    "    # decrypt password\n",
    "    decryptor = PKCS1_OAEP.new(key)\n",
    "    decryp_mes = decryptor.decrypt(encrypted)\n",
    "    \n",
    "    return decryp_mes"
   ]
  },
  {
   "cell_type": "markdown",
   "id": "610ea829",
   "metadata": {},
   "source": [
    "# 2. For terminal"
   ]
  },
  {
   "cell_type": "code",
   "execution_count": null,
   "id": "78ae84b3",
   "metadata": {},
   "outputs": [],
   "source": [
    "def blue_str(line):\n",
    "    return ('\\033[1;34m' + line + '\\033[0m')\n",
    "\n",
    "def green_str(line):\n",
    "    return ('\\033[1;32m' + line + '\\033[0m')\n",
    "\n",
    "def red_str(line):\n",
    "    return ('\\033[1;31m' + line + '\\033[0m')"
   ]
  },
  {
   "cell_type": "code",
   "execution_count": 57,
   "id": "24e58269",
   "metadata": {},
   "outputs": [],
   "source": [
    "def parse_arguments():\n",
    "    tasks = ['build_keys', 'encrypt', 'decrypt']\n",
    "    parser = argparse.ArgumentParser(\n",
    "    description = 'Tool for encrypt and decrypt messages by RSA. \\\n",
    "        \\n\\t1. Build Keys: you should fill in the \"-u\" and \"-p\" \\\n",
    "        \\n\\t2. Encrypt Messages: you should fill in the \"-pub\", \"f\", \"p\" and \"m\" \\\n",
    "        \\n\\t3. Decrypt Messages: you should fill in the \"-pri\", \"f\" and \"p\"      \\\n",
    "        \\nFor more details, see \"-p\" \\\n",
    "        ')\n",
    "    parser.add_argument('--task', choices=tasks)\n",
    "    parser.add_argument('-u', type=str, help='name for built public key and private key', default='')\n",
    "    parser.add_argument('-p', type=str, help='password to log in public key and private key', default='')\n",
    "    parser.add_argument('-pub', type=str, help='public key path', default='')\n",
    "    parser.add_argument('-pri', type=str, help='private key path', default='')\n",
    "    parser.add_argument('-f', type=str, help='file name for encrypted file', default='')\n",
    "    parser.add_argument('-m', type=str, help='plaintext message', default='')\n",
    "    args = parser.parse_args()\n",
    "    \n",
    "    return args"
   ]
  },
  {
   "cell_type": "code",
   "execution_count": 60,
   "id": "cc0c91bb",
   "metadata": {},
   "outputs": [
    {
     "name": "stdout",
     "output_type": "stream",
     "text": [
      "\u001b[1;31mINVALID TASK None\u001b[0m\n"
     ]
    }
   ],
   "source": [
    "if __name__ == '__main__':\n",
    "    args = parse_arguments()\n",
    "    task = args.task\n",
    "\n",
    "    username, password, public_key_path, private_key_path, filename, message = \\\n",
    "    args.u, args.p, args.pub, args.pri, args.f, args.m\n",
    "    \n",
    "    if task == 'build_keys':\n",
    "        print(blue_str('BUILD KEYS TASK'))\n",
    "        if username == '' or password == '':\n",
    "            print(red_str('ERROR: username or password cannot be empty!'))\n",
    "        else:\n",
    "            build_key(username, password)\n",
    "            print(green_str('SUCCESS: %s.public and %s.private has been generated in the current directory.' % (username, username)))\n",
    "\n",
    "    elif task == 'encrypt':\n",
    "        print(blue_str('ENCRYPT THE MESSAGE TASK'))\n",
    "        if public_key_path == '' or filename == '' or password == '' or message == '':\n",
    "            print(red_str('ERROR: public key path or filename or password or message cannot be empty!'))\n",
    "        else:\n",
    "            encrypt(public_key_path, filename, password, message)\n",
    "            print(green_str('SUCCESS: %s.rsa has been built in the current directory' % (filename)))\n",
    "\n",
    "    elif task == 'decrypt':\n",
    "        print(blue_str('DECRYPT THE MASSAGE TASK'))\n",
    "        if private_key_path == '' or filename == '' or password == '':\n",
    "            print(red_str('ERROR: private key path or filename or password cannot be empty!'))\n",
    "        else:\n",
    "            decryp_mes = decrypt(private_key_path, filename, password)\n",
    "            print(green_str('SUCCESS: the decrypted message is %s' % (decryp_mes)))\n",
    "\n",
    "    else:\n",
    "        print(red_str('INVALID TASK %s' % (task)))"
   ]
  }
 ],
 "metadata": {
  "kernelspec": {
   "display_name": "Python 3 (ipykernel)",
   "language": "python",
   "name": "python3"
  },
  "language_info": {
   "codemirror_mode": {
    "name": "ipython",
    "version": 3
   },
   "file_extension": ".py",
   "mimetype": "text/x-python",
   "name": "python",
   "nbconvert_exporter": "python",
   "pygments_lexer": "ipython3",
   "version": "3.8.12"
  }
 },
 "nbformat": 4,
 "nbformat_minor": 5
}
