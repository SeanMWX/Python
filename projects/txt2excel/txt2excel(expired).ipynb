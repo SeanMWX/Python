{
 "cells": [
  {
   "cell_type": "code",
   "execution_count": 1,
   "id": "f8b14b44",
   "metadata": {},
   "outputs": [],
   "source": [
    "# python 3.8\n",
    "import os,re\n",
    "from pathlib import Path\n",
    "\n",
    "#  pip install xlsxwriter\n",
    "import xlsxwriter"
   ]
  },
  {
   "cell_type": "code",
   "execution_count": 2,
   "id": "9434da23",
   "metadata": {},
   "outputs": [],
   "source": [
    "# iteratre txt files' names\n",
    "path = \"data/\"\n",
    "file_names = os.listdir(path)"
   ]
  },
  {
   "cell_type": "code",
   "execution_count": 3,
   "id": "7913658a",
   "metadata": {},
   "outputs": [],
   "source": [
    "# get all data\n",
    "file_data = []\n",
    "for file_name in file_names:\n",
    "    # add prefix path\n",
    "    file_name = path + file_name\n",
    "    # regex\n",
    "    f = open(file_name, \"r\", encoding='utf-8')\n",
    "    data = f.read()\n",
    "    f.close()\n",
    "    pattern = re.compile(r'\\d{1,4}\\t\\d{1,4}.\\d{1,4}\\t\\n')\n",
    "    matchObj = pattern.findall(data)\n",
    "    file_data = file_data + matchObj\n",
    "\n",
    "# get all number from data\n",
    "nums = []\n",
    "for line in file_data:\n",
    "    pos = [pos for pos, char in enumerate(line) if char == '\\t']\n",
    "    num = line[pos[0]+1:pos[1]]\n",
    "    nums = nums + [num]"
   ]
  },
  {
   "cell_type": "code",
   "execution_count": 4,
   "id": "f00bcf3d",
   "metadata": {},
   "outputs": [],
   "source": [
    "# create excel\n",
    "output_name = 'results.xlsx'\n",
    "my_file = Path(output_name)\n",
    "if my_file.is_file():\n",
    "    raise RuntimeError('Already exist file: \"results.xlsx\"')\n",
    "else:\n",
    "    workbook = xlsxwriter.Workbook(output_name)\n",
    "\n",
    "# writing data to excel\n",
    "worksheet = workbook.add_worksheet()\n",
    "worksheet.write('A1', 'No.')\n",
    "worksheet.write('B1', 'Value')\n",
    "for i in range(0,len(nums)):\n",
    "    worksheet.write('A'+str(i+2), str(i+1))\n",
    "    worksheet.write('B'+str(i+2), nums[i])\n",
    "    \n",
    "# close the excel\n",
    "workbook.close()\n",
    "print(\"Finished!\")"
   ]
  },
  {
   "cell_type": "code",
   "execution_count": null,
   "id": "76c3570d",
   "metadata": {},
   "outputs": [],
   "source": []
  }
 ],
 "metadata": {
  "kernelspec": {
   "display_name": "Python 3 (ipykernel)",
   "language": "python",
   "name": "python3"
  },
  "language_info": {
   "codemirror_mode": {
    "name": "ipython",
    "version": 3
   },
   "file_extension": ".py",
   "mimetype": "text/x-python",
   "name": "python",
   "nbconvert_exporter": "python",
   "pygments_lexer": "ipython3",
   "version": "3.8.12"
  }
 },
 "nbformat": 4,
 "nbformat_minor": 5
}
