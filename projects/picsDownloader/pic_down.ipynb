{
 "cells": [
  {
   "cell_type": "code",
   "execution_count": 2,
   "id": "0e40db1e",
   "metadata": {},
   "outputs": [],
   "source": [
    "from bs4 import BeautifulSoup\n",
    "import requests\n",
    "import urllib\n",
    "import re\n",
    "import os"
   ]
  },
  {
   "cell_type": "markdown",
   "id": "cd734fcb",
   "metadata": {},
   "source": [
    "# 1. 成人漫画 https://18comic.vip/"
   ]
  },
  {
   "cell_type": "code",
   "execution_count": 56,
   "id": "833deab5",
   "metadata": {},
   "outputs": [
    {
     "name": "stdout",
     "output_type": "stream",
     "text": [
      "00001.jpg\n",
      "00002.jpg\n",
      "00003.jpg\n",
      "00004.jpg\n",
      "00005.jpg\n",
      "00006.jpg\n",
      "00007.jpg\n",
      "00008.jpg\n",
      "00009.jpg\n",
      "00010.jpg\n",
      "00011.jpg\n",
      "00012.jpg\n",
      "00013.jpg\n",
      "00014.jpg\n",
      "00015.jpg\n",
      "00016.jpg\n",
      "00017.jpg\n",
      "00018.jpg\n",
      "00019.jpg\n",
      "00020.jpg\n",
      "00021.jpg\n",
      "00022.jpg\n",
      "00023.jpg\n",
      "00024.jpg\n",
      "00025.jpg\n",
      "00026.jpg\n",
      "00027.jpg\n",
      "00028.jpg\n",
      "00029.jpg\n",
      "00030.jpg\n",
      "00031.jpg\n",
      "00032.jpg\n",
      "00033.jpg\n",
      "00034.jpg\n",
      "00035.jpg\n",
      "00036.jpg\n",
      "00037.jpg\n",
      "00038.jpg\n",
      "00039.jpg\n",
      "00040.jpg\n",
      "00041.jpg\n",
      "00042.jpg\n",
      "00043.jpg\n",
      "00044.jpg\n",
      "00045.jpg\n",
      "00046.jpg\n",
      "00047.jpg\n",
      "00048.jpg\n",
      "00049.jpg\n",
      "00050.jpg\n"
     ]
    }
   ],
   "source": [
    "# 需要资源图片的网址 pre_url\n",
    "# 和图片总数目 num\n",
    "pre_url = 'https://cdn-msp.18comic.vip/media/photos/276715/'\n",
    "num = 50\n",
    "\n",
    "# 网站反扒 https://18comic.vip/photo/121467\n",
    "# 找规律破解\n",
    "# 正则表达式\n",
    "pattern = re.compile('\\/[0-9]*.jpg')\n",
    "\n",
    "# 下载\n",
    "# img_url为图片链接,\n",
    "# file_name为文件储存路径及文件名\n",
    "for i in range(1,num+1):\n",
    "    if i < 10:\n",
    "        img_url = pre_url + '0000' + str(i) + '.jpg'\n",
    "    elif i >= 10 and i < 100:\n",
    "        img_url = pre_url + '000' + str(i) + '.jpg'\n",
    "    elif i >=100 and i < 1000:\n",
    "        img_url = pre_url + '00' + str(i) + '.jpg'\n",
    "    elif i >=1000:\n",
    "        img_url = pre_url + '0' + str(i) + '.jpg'\n",
    "    res=requests.get(img_url)\n",
    "    file_name = pattern.search(img_url).group(0)[1:]\n",
    "    print(file_name)\n",
    "    with open(file_name ,'wb') as f:\n",
    "        f.write(res.content)"
   ]
  },
  {
   "cell_type": "markdown",
   "id": "83006972",
   "metadata": {},
   "source": [
    "# 2. 漫画猫 https://www.maofly.com/manga/15127/83285.html"
   ]
  },
  {
   "cell_type": "code",
   "execution_count": 111,
   "id": "23bb5398",
   "metadata": {},
   "outputs": [
    {
     "name": "stdout",
     "output_type": "stream",
     "text": [
      "act_19/000001.png\n",
      "act_19/001002.png\n",
      "act_19/002003.png\n",
      "act_19/003004.png\n",
      "act_19/004005.png\n",
      "act_19/005006.png\n",
      "act_19/006007.png\n",
      "act_19/007008.png\n",
      "act_19/008009.png\n",
      "act_19/009010.png\n",
      "act_19/010011.png\n",
      "act_19/011012.png\n",
      "act_19/012013.png\n",
      "act_19/013014.png\n",
      "act_19/014015.png\n",
      "act_19/015016.png\n",
      "act_19/016017.png\n",
      "act_19/017018.png\n",
      "act_19/018019.png\n",
      "act_19/019020.png\n",
      "act_19/020021.png\n",
      "act_19/021022.png\n",
      "act_19/022023.png\n",
      "act_19/023024.png\n",
      "act_19/024025.png\n",
      "act_19/025026.png\n",
      "act_19/026027.png\n",
      "act_19/027028.png\n"
     ]
    }
   ],
   "source": [
    "# 网站反扒 https://18comic.vip/photo/121467\n",
    "# 找规律破解\n",
    "# 正则表达式\n",
    "extend = '.png'\n",
    "pattern = re.compile('xindm_cn_[\\s|\\S]*' + extend)\n",
    "# pattern = re.compile('[0-9]*' + extend)\n",
    "pages_list = [38,38,37,36,38,39,37,37,37,34,37,39,35,37,37,35,31,31,28]\n",
    "acts_list = ['54859','54860','54861','54862','54863','54864','54865','54867','54868','54869','54871','54872','54873','54874','54875','54876','54877','54878','64963']\n",
    "\n",
    "\n",
    "for act in range(18,19):\n",
    "    # act 1 to act final\n",
    "    dirs = 'act_' + str(act+1)\n",
    "    if not os.path.exists(dirs):\n",
    "        os.makedirs(dirs)\n",
    "    pre_url = 'https://mao.mhtupian.com/uploads/img/6282/' + acts_list[act] + '/'\n",
    "    pages = pages_list[act]\n",
    "\n",
    "    # each act\n",
    "    for i in range(pages):\n",
    "        fst = i\n",
    "        snd = i+1\n",
    "        if fst < 10:\n",
    "            fst = '00' + str(fst)\n",
    "        elif fst >= 10:\n",
    "            fst = '0' + str(fst)\n",
    "        if snd < 10:\n",
    "            snd = '00' + str(snd)\n",
    "        elif snd >= 10:\n",
    "            snd = '0' + str(snd)\n",
    "        img_url = pre_url + 'xindm_cn_' + fst + snd + extend\n",
    "        # img_url = pre_url + fst + snd + extend\n",
    "        res=requests.get(img_url)\n",
    "        file_name = dirs + '/' + pattern.search(img_url).group(0)\n",
    "        print(file_name)\n",
    "        with open(file_name ,'wb') as f:\n",
    "            f.write(res.content)"
   ]
  },
  {
   "cell_type": "code",
   "execution_count": 119,
   "id": "2e7cf609",
   "metadata": {},
   "outputs": [
    {
     "name": "stdout",
     "output_type": "stream",
     "text": [
      "act_5/xindm_cn_000001.jpg\n"
     ]
    }
   ],
   "source": [
    "# special pages\n",
    "# pattern = re.compile('xindm_cn_[\\s|\\S]*.jpg')\n",
    "dirs = 'act_5'\n",
    "extend = '.jpg'\n",
    "pattern = re.compile('xindm_cn_[\\s|\\S]*' + extend)\n",
    "# pattern = re.compile('[0-9]*' + extend)\n",
    "img_url = 'https://mao.mhtupian.com/uploads/img/6282/54863/xindm_cn_000001.jpg'\n",
    "res=requests.get(img_url)\n",
    "file_name = dirs + '/' + pattern.search(img_url).group(0)\n",
    "print(file_name)\n",
    "with open(file_name ,'wb') as f:\n",
    "    f.write(res.content)"
   ]
  },
  {
   "cell_type": "markdown",
   "id": "65c24c36",
   "metadata": {},
   "source": [
    "# 3. 漫画猫v2 https://www.maofly.com/manga/15127/85035.html"
   ]
  },
  {
   "cell_type": "code",
   "execution_count": 39,
   "id": "1b8191e6",
   "metadata": {},
   "outputs": [],
   "source": [
    "num = 12\n",
    "dirs = 'act_'+ str(num) +'/'\n",
    "extend = '.jpg'\n",
    "with open(dirs + 'imgs.txt') as f:\n",
    "    lines = f.readlines()\n",
    "lines = lines[0] + lines[1] + lines[2] # act 12\n",
    "# lines = lines[0] + lines[1] + lines[2] + lines[3] # act 13"
   ]
  },
  {
   "cell_type": "code",
   "execution_count": 40,
   "id": "fe6183d3",
   "metadata": {},
   "outputs": [
    {
     "name": "stdout",
     "output_type": "stream",
     "text": [
      "['https://mao.mhtupian.com/uploads/img/6282/54872/xindm_cn_01_aeuk.jpg', 'https://mao.mhtupian.com/uploads/img/6282/54872/xindm_cn_02_amlc.jpg', 'https://mao.mhtupian.com/uploads/img/6282/54872/xindm_cn_03_aubu.jpg', 'https://mao.mhtupian.com/uploads/img/6282/54872/xindm_cn_04_bbsm.jpg', 'https://mao.mhtupian.com/uploads/img/6282/54872/xindm_cn_05_bjje.jpg', 'https://mao.mhtupian.com/uploads/img/6282/54872/xindm_cn_06_bqzw.jpg', 'https://mao.mhtupian.com/uploads/img/6282/54872/xindm_cn_07_byqo.jpg', 'https://mao.mhtupian.com/uploads/img/6282/54872/xindm_cn_08_cghg.jpg', 'https://mao.mhtupian.com/uploads/img/6282/54872/xindm_cn_09_cnxy.jpg', 'https://mao.mhtupian.com/uploads/img/6282/54872/xindm_cn_10_cvoq.jpg', 'https://mao.mhtupian.com/uploads/img/6282/54872/xindm_cn_11_ddfi.jpg', 'https://mao.mhtupian.com/uploads/img/6282/54872/xindm_cn_12_dkwa.jpg', 'https://mao.mhtupian.com/uploads/img/6282/54872/xindm_cn_13_dsms.jpg', 'https://mao.mhtupian.com/uploads/img/6282/54872/xindm_cn_14_eadk.jpg', 'https://mao.mhtupian.com/uploads/img/6282/54872/xindm_cn_15_ehuc.jpg', 'https://mao.mhtupian.com/uploads/img/6282/54872/xindm_cn_16_epku.jpg', 'https://mao.mhtupian.com/uploads/img/6282/54872/xindm_cn_17_exbm.jpg', 'https://mao.mhtupian.com/uploads/img/6282/54872/xindm_cn_18_fese.jpg', 'https://mao.mhtupian.com/uploads/img/6282/54872/xindm_cn_19_fmiw.jpg', 'https://mao.mhtupian.com/uploads/img/6282/54872/xindm_cn_20_ftzo.jpg', 'https://mao.mhtupian.com/uploads/img/6282/54872/xindm_cn_21_gbqg.jpg', 'https://mao.mhtupian.com/uploads/img/6282/54872/xindm_cn_22_gjgy.jpg', 'https://mao.mhtupian.com/uploads/img/6282/54872/xindm_cn_23_gqxq.jpg', 'https://mao.mhtupian.com/uploads/img/6282/54872/xindm_cn_24_gyoi.jpg', 'https://mao.mhtupian.com/uploads/img/6282/54872/xindm_cn_25_hgfa.jpg', 'https://mao.mhtupian.com/uploads/img/6282/54872/xindm_cn_26_hnvs.jpg', 'https://mao.mhtupian.com/uploads/img/6282/54872/xindm_cn_27_hvmk.jpg', 'https://mao.mhtupian.com/uploads/img/6282/54872/xindm_cn_28_iddc.jpg', 'https://mao.mhtupian.com/uploads/img/6282/54872/xindm_cn_29_iktu.jpg', 'https://mao.mhtupian.com/uploads/img/6282/54872/xindm_cn_30_iskm.jpg', 'https://mao.mhtupian.com/uploads/img/6282/54872/xindm_cn_31_jabe.jpg', 'https://mao.mhtupian.com/uploads/img/6282/54872/xindm_cn_32_jhrw.jpg', 'https://mao.mhtupian.com/uploads/img/6282/54872/xindm_cn_33_jpio.jpg', 'https://mao.mhtupian.com/uploads/img/6282/54872/xindm_cn_34_jwzg.jpg', 'https://mao.mhtupian.com/uploads/img/6282/54872/xindm_cn_35_kepy.jpg', 'https://mao.mhtupian.com/uploads/img/6282/54872/xindm_cn_36_kmgq.jpg', 'https://mao.mhtupian.com/uploads/img/6282/54872/xindm_cn_37_ktxi.jpg', 'https://mao.mhtupian.com/uploads/img/6282/54872/xindm_cn_38_lboa.jpg', 'https://mao.mhtupian.com/uploads/img/6282/54872/xindm_cn_39_ljes.jpg']\n"
     ]
    }
   ],
   "source": [
    "pattern_str = 'https:\\/\\/mao.mhtupian.com\\/uploads\\/img\\/[0-9]*\\/[0-9]*\\/xindm_cn_[0-9]*_[a-z]*'\n",
    "pattern = re.compile(pattern_str + extend)\n",
    "# matchObj = pattern.match('https://mao.mhtupian.com/uploads/img/6282/54872/xindm_cn_01_aeuk.jpg') # 匹配一次\n",
    "results = pattern.findall(lines) # 匹配所有\n",
    "print(results)"
   ]
  },
  {
   "cell_type": "code",
   "execution_count": 41,
   "id": "67eee8d3",
   "metadata": {},
   "outputs": [
    {
     "name": "stdout",
     "output_type": "stream",
     "text": [
      "act_12/xindm_cn_01_aeuk.jpg\n",
      "act_12/xindm_cn_02_amlc.jpg\n",
      "act_12/xindm_cn_03_aubu.jpg\n",
      "act_12/xindm_cn_04_bbsm.jpg\n",
      "act_12/xindm_cn_05_bjje.jpg\n",
      "act_12/xindm_cn_06_bqzw.jpg\n",
      "act_12/xindm_cn_07_byqo.jpg\n",
      "act_12/xindm_cn_08_cghg.jpg\n",
      "act_12/xindm_cn_09_cnxy.jpg\n",
      "act_12/xindm_cn_10_cvoq.jpg\n",
      "act_12/xindm_cn_11_ddfi.jpg\n",
      "act_12/xindm_cn_12_dkwa.jpg\n",
      "act_12/xindm_cn_13_dsms.jpg\n",
      "act_12/xindm_cn_14_eadk.jpg\n",
      "act_12/xindm_cn_15_ehuc.jpg\n",
      "act_12/xindm_cn_16_epku.jpg\n",
      "act_12/xindm_cn_17_exbm.jpg\n",
      "act_12/xindm_cn_18_fese.jpg\n",
      "act_12/xindm_cn_19_fmiw.jpg\n",
      "act_12/xindm_cn_20_ftzo.jpg\n",
      "act_12/xindm_cn_21_gbqg.jpg\n",
      "act_12/xindm_cn_22_gjgy.jpg\n",
      "act_12/xindm_cn_23_gqxq.jpg\n",
      "act_12/xindm_cn_24_gyoi.jpg\n",
      "act_12/xindm_cn_25_hgfa.jpg\n",
      "act_12/xindm_cn_26_hnvs.jpg\n",
      "act_12/xindm_cn_27_hvmk.jpg\n",
      "act_12/xindm_cn_28_iddc.jpg\n",
      "act_12/xindm_cn_29_iktu.jpg\n",
      "act_12/xindm_cn_30_iskm.jpg\n",
      "act_12/xindm_cn_31_jabe.jpg\n",
      "act_12/xindm_cn_32_jhrw.jpg\n",
      "act_12/xindm_cn_33_jpio.jpg\n",
      "act_12/xindm_cn_34_jwzg.jpg\n",
      "act_12/xindm_cn_35_kepy.jpg\n",
      "act_12/xindm_cn_36_kmgq.jpg\n",
      "act_12/xindm_cn_37_ktxi.jpg\n",
      "act_12/xindm_cn_38_lboa.jpg\n",
      "act_12/xindm_cn_39_ljes.jpg\n"
     ]
    }
   ],
   "source": [
    "# 网站反扒 https://18comic.vip/photo/121467\n",
    "# 找规律破解\n",
    "# 正则表达式\n",
    "extend = '.jpg'\n",
    "pattern = re.compile('xindm_cn_[0-9]*_\\S\\S\\S\\S' + extend)\n",
    "# pattern = re.compile('[0-9]*' + extend)\n",
    "pages_list = [38,38,37,36,38,39,37,37,37,34,37,39,35,37,37,35,31,31,28]\n",
    "\n",
    "\n",
    "if not os.path.exists(dirs):\n",
    "    os.makedirs(dirs)\n",
    "pages = pages_list[num-1]\n",
    "\n",
    "# each act\n",
    "for i in range(pages):\n",
    "    img_url = results[i]\n",
    "    res=requests.get(img_url)\n",
    "    file_name = dirs + pattern.search(img_url).group(0)\n",
    "    print(file_name)\n",
    "    with open(file_name ,'wb') as f:\n",
    "        f.write(res.content)"
   ]
  }
 ],
 "metadata": {
  "kernelspec": {
   "display_name": "Python 3 (ipykernel)",
   "language": "python",
   "name": "python3"
  },
  "language_info": {
   "codemirror_mode": {
    "name": "ipython",
    "version": 3
   },
   "file_extension": ".py",
   "mimetype": "text/x-python",
   "name": "python",
   "nbconvert_exporter": "python",
   "pygments_lexer": "ipython3",
   "version": "3.8.12"
  }
 },
 "nbformat": 4,
 "nbformat_minor": 5
}
